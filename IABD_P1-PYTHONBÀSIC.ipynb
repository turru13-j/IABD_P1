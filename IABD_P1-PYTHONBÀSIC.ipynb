{
 "cells": [
  {
   "cell_type": "markdown",
   "metadata": {},
   "source": [
    "Adivina número: L’usuari tindrà tres intents per adivinar un número aleatori del 1 al 10. Per cada error es mostrarà per pantalla si el número és major o menor a l’indicat."
   ]
  },
  {
   "cell_type": "code",
   "execution_count": 3,
   "metadata": {},
   "outputs": [
    {
     "name": "stdout",
     "output_type": "stream",
     "text": [
      "El numero es més gran, portas: 1 intents\n",
      "El numero es més gran, portas: 2 intents\n",
      "El numero es més gran, portas: 3 intents\n",
      "No has acertat el numero era: 10\n"
     ]
    }
   ],
   "source": [
    "import random\n",
    "\n",
    "def adivina_numero():\n",
    "    intents = 0\n",
    "    naleatori = int(random.randint(1, 10))\n",
    "    while intents < 3:\n",
    "        nusuari = input(\"Introdueix el numero:\")\n",
    "        if nusuari.isdigit():\n",
    "            nusuari = int(nusuari)\n",
    "            if naleatori == nusuari:\n",
    "                break\n",
    "            elif naleatori < nusuari:\n",
    "                print(f\"El numero es més petit, portas: {intents+1} intents\")\n",
    "                intents+=1\n",
    "            elif naleatori > nusuari:\n",
    "                print(f\"El numero es més gran, portas: {intents+1} intents\")\n",
    "                intents+=1\n",
    "    if naleatori != nusuari:\n",
    "        return(f\"No has acertat el numero era: {naleatori}\")\n",
    "    else:\n",
    "        return (f\"Has acertat el numero era: {naleatori}\")\n",
    "print(adivina_numero())\n",
    "\n"
   ]
  },
  {
   "cell_type": "markdown",
   "metadata": {},
   "source": [
    "Pedra - Paper - Tisores: Guanyador el primer que arriba a 3 punts."
   ]
  },
  {
   "cell_type": "code",
   "execution_count": 1,
   "metadata": {},
   "outputs": [
    {
     "name": "stdout",
     "output_type": "stream",
     "text": [
      "Tu has escollit tisores y la maquina paper. HAS GUANYAT\n",
      "Contador vidas: Tu:1 | Maquina:0\n",
      "Tu has escollit pedra y la maquina paper. HAS PERDUT\n",
      "Contador vidas: Tu:1 | Maquina:1\n",
      "Tu has escollit tisores y la maquina paper. HAS GUANYAT\n",
      "Contador vidas: Tu:2 | Maquina:1\n",
      "Tu has escollit tisores y la maquina paper. HAS GUANYAT\n",
      "Contador vidas: Tu:3 | Maquina:1\n",
      "HAS GUANYAT\n"
     ]
    }
   ],
   "source": [
    "import random\n",
    "\n",
    "\n",
    "def pedra_paper_tisores():\n",
    "    opcions = {'pedra':'tisores','tisores':'paper','paper':'pedra'}\n",
    "    vidasjugador = 0\n",
    "    vidaspc = 0    \n",
    "    \n",
    "    while vidasjugador < 3 and vidaspc < 3:\n",
    "        jugador = input(\"Escull Pedra, Paper o Tisores\")\n",
    "        pc= random.choice(['pedra','paper','tisores'])\n",
    "        jugador = jugador.lower()\n",
    "        \n",
    "        while jugador not in {'pedra','paper','tisores'}:\n",
    "            jugador = input(\"Escull una opció correcta: Pedra, Paper o Tisores\")\n",
    "            \n",
    "        if opcions[jugador] == pc:\n",
    "            vidasjugador +=1\n",
    "            print(f\"Tu has escollit {jugador} y la maquina {pc}. HAS GUANYAT\")\n",
    "            print(f\"Contador vidas: Tu:{vidasjugador} | Maquina:{vidaspc}\")\n",
    "            \n",
    "        elif opcions[pc] == jugador:\n",
    "            vidaspc +=1\n",
    "            print(f\"Tu has escollit {jugador} y la maquina {pc}. HAS PERDUT\")\n",
    "            print(f\"Contador vidas: Tu:{vidasjugador} | Maquina:{vidaspc}\")\n",
    "            \n",
    "        else:\n",
    "            print(f\"Tu has escollit {jugador} y la maquina {pc}. HAS EMPATAT\")\n",
    "            \n",
    "            \n",
    "    if vidaspc==3:\n",
    "        return(f\"HAS PERDUT\")\n",
    "    else:\n",
    "        return(f\"HAS GUANYAT\")\n",
    "\n",
    "print(pedra_paper_tisores())\n"
   ]
  },
  {
   "cell_type": "markdown",
   "metadata": {},
   "source": [
    "El ‘Penjat’ - ‘Ahorcado’: \n",
    "El programa partirà d’una llista de 30 paraules d’entre 3 i 7 lletres obtingudes d’un fitxer extern.\n",
    "Aleatòriament es seleccionarà una de les 30 paraules.\n",
    "L’usuari disposarà de número de lletres de la paraula * 2 intents per adivinar-la.\n",
    "S’anirà mostrant abans de cada intent el tauler típic: R _ _ _ _"
   ]
  },
  {
   "cell_type": "code",
   "execution_count": 4,
   "metadata": {},
   "outputs": [
    {
     "name": "stdout",
     "output_type": "stream",
     "text": [
      "rotar\n",
      "_ _ _ _ _ \n",
      "r_ _ _ r\n",
      "r_ t_ r\n",
      "r_ tar\n",
      "HAS GUANYAT\n",
      "La paraula era: rotar\n"
     ]
    }
   ],
   "source": [
    "\n",
    "import csv\n",
    "import random\n",
    "\n",
    "def paraula_aleatoria():\n",
    "    llista =[]\n",
    "    fitxer= open(\"paraules.csv\")\n",
    "    reader = csv.reader(fitxer)\n",
    "    for row in reader:\n",
    "        llista += row\n",
    "        \n",
    "    paraula = random.choice(llista)\n",
    "    \n",
    "    while len(paraula) < 3 or len(paraula) > 7:\n",
    "        paraula = random.choice(llista)\n",
    "        \n",
    "    return paraula.lower()\n",
    "\n",
    "\n",
    "\n",
    "def penjat():\n",
    "    paraula = paraula_aleatoria()\n",
    "    errors = 0\n",
    "    intents = len(paraula)*2\n",
    "    \n",
    "    progres=[]\n",
    "    for i in range(len(paraula)):\n",
    "        progres.append(\"_ \")\n",
    "        \n",
    "    llistaparaula=[]    \n",
    "    for char in paraula:\n",
    "        llistaparaula.append(char +'')\n",
    "    \n",
    "    while errors < intents:\n",
    "        \n",
    "        print(''.join(progres))\n",
    "        lletra = input(\"Escull una lletra: \")\n",
    "        error = True\n",
    "        for i in range(len(paraula)):\n",
    "          if lletra == paraula[i]:\n",
    "              progres[i] = lletra +''\n",
    "              error = False\n",
    "        if error:\n",
    "            errors +=1\n",
    "        if llistaparaula == progres:\n",
    "            print(\"HAS GUANYAT\")\n",
    "            return(f\"La paraula era: {paraula}\")\n",
    "            \n",
    "    else:\n",
    "        print(\"HAS PERDUT\")\n",
    "        return(f\"La paraula era {paraula}\")\n",
    "        \n",
    "print(penjat())\n",
    "    \n",
    "    \n",
    "    \n",
    "    "
   ]
  }
 ],
 "metadata": {
  "kernelspec": {
   "display_name": "Python 3.9.13 64-bit (microsoft store)",
   "language": "python",
   "name": "python3"
  },
  "language_info": {
   "codemirror_mode": {
    "name": "ipython",
    "version": 3
   },
   "file_extension": ".py",
   "mimetype": "text/x-python",
   "name": "python",
   "nbconvert_exporter": "python",
   "pygments_lexer": "ipython3",
   "version": "3.9.13"
  },
  "orig_nbformat": 4,
  "vscode": {
   "interpreter": {
    "hash": "901767e2981872a9d59b1f54bf0fa8528499dd6525f3862dcd6c9b5fdf847e69"
   }
  }
 },
 "nbformat": 4,
 "nbformat_minor": 2
}
